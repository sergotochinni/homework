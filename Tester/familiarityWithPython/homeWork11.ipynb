{
 "cells": [
  {
   "cell_type": "markdown",
   "id": "5d9214df",
   "metadata": {},
   "source": [
    "- f(x) = 0.6x^3 + 5.5x^2 + 10x - 5\n",
    "- f(x) = -18x^3 + 5x^2 + 10x - 30\n",
    "- f(x) = 2x^3 + 2x^2 - 18x - 18\n",
    "- f(x) = (x^2 + 3) / (3(x + 1))\n",
    "1. Определить корни\n",
    "2. Найти интервалы, на которых функция возрастает\n",
    "3. Найти интервалы, на которых функция убывает\n",
    "4. Построить график\n",
    "5. Вычислить вершину\n",
    "6. Определить промежутки, на котором f > 0\n",
    "7. Определить промежутки, на котором f < 0"
   ]
  },
  {
   "cell_type": "markdown",
   "id": "ae0d5d90",
   "metadata": {},
   "source": [
    "## 1. Определить корни"
   ]
  },
  {
   "cell_type": "code",
   "execution_count": 49,
   "id": "a6992b64",
   "metadata": {},
   "outputs": [
    {
     "name": "stdout",
     "output_type": "stream",
     "text": [
      "Корни:  -6.3217, -3.2505, 0.40554\n"
     ]
    }
   ],
   "source": [
    "from sympy import *\n",
    "\n",
    "x = Symbol('x')\n",
    "\n",
    "f_x = 0.6 * (x**3) + 5.5 * (x**2) + 10 * x - 5\n",
    "#f_x = -18 * (x**3) + 5 * (x**2) + 10 * x - 30\n",
    "#f_x = 2 * (x**3) + 2 * (x**2) - 18 * x - 18\n",
    "#f_x = (x**2 + 3) / (3 * (x + 1))\n",
    "\n",
    "rt = solveset(f_x, x, Reals)\n",
    "\n",
    "print('Корни: ', ', '.join(str(x.n(5)) for x in rt))"
   ]
  },
  {
   "cell_type": "markdown",
   "id": "26321a65",
   "metadata": {},
   "source": [
    "## 2. Найти интервалы, на которых функция возрастает"
   ]
  },
  {
   "cell_type": "code",
   "execution_count": 50,
   "id": "b111ce8a",
   "metadata": {},
   "outputs": [],
   "source": [
    "derivative = diff(f_x)"
   ]
  },
  {
   "cell_type": "code",
   "execution_count": 51,
   "id": "346fa005",
   "metadata": {},
   "outputs": [
    {
     "data": {
      "text/latex": [
       "$\\displaystyle \\left(-1.11111111111111 < x \\wedge x < \\infty\\right) \\vee \\left(-\\infty < x \\wedge x < -5.0\\right)$"
      ],
      "text/plain": [
       "((-1.11111111111111 < x) & (x < oo)) | ((-oo < x) & (x < -5.0))"
      ]
     },
     "execution_count": 51,
     "metadata": {},
     "output_type": "execute_result"
    }
   ],
   "source": [
    "solve(derivative > 0, x)"
   ]
  },
  {
   "cell_type": "markdown",
   "id": "551606e5",
   "metadata": {},
   "source": [
    "## 3. Найти интервалы, на которых функция убывает"
   ]
  },
  {
   "cell_type": "code",
   "execution_count": 52,
   "id": "7c7e4099",
   "metadata": {},
   "outputs": [
    {
     "data": {
      "text/latex": [
       "$\\displaystyle -5.0 < x \\wedge x < -1.11111111111111$"
      ],
      "text/plain": [
       "(-5.0 < x) & (x < -1.11111111111111)"
      ]
     },
     "execution_count": 52,
     "metadata": {},
     "output_type": "execute_result"
    }
   ],
   "source": [
    "solve(derivative < 0, x)"
   ]
  },
  {
   "cell_type": "code",
   "execution_count": 53,
   "id": "d3df355b",
   "metadata": {},
   "outputs": [],
   "source": [
    "# g1 = plot(derivative, (x, -10, 10), line_color='red', title='graph')"
   ]
  },
  {
   "cell_type": "markdown",
   "id": "dff2fa9d",
   "metadata": {},
   "source": [
    "## 4. Построить график"
   ]
  },
  {
   "cell_type": "code",
   "execution_count": 54,
   "id": "d18aefd5",
   "metadata": {},
   "outputs": [
    {
     "data": {
      "image/png": "[encoded data removed]",
      "text/plain": [
       "<Figure size 640x480 with 1 Axes>"
      ]
     },
     "metadata": {},
     "output_type": "display_data"
    }
   ],
   "source": [
    "g1 = plot(f_x, (x, -10, 5), line_color='red', title='graph')\n",
    "#g1 = plot(f_x, (x, -10, 10), line_color='red', title='graph')\n",
    "#g1 = plot(f_x, (x, -10, 10), line_color='red', title='graph')\n",
    "#g1 = plot((f_x, (x, -5, -1.1)), (f_x, (x, -0.9, 5)), line_color='red', title='graph')"
   ]
  },
  {
   "cell_type": "markdown",
   "id": "af429583",
   "metadata": {},
   "source": [
    "## 5. Вычислить вершину"
   ]
  },
  {
   "cell_type": "code",
   "execution_count": 55,
   "id": "612d9372",
   "metadata": {},
   "outputs": [],
   "source": [
    "rt = solve(derivative, x)"
   ]
  },
  {
   "cell_type": "code",
   "execution_count": 56,
   "id": "852b4ce4",
   "metadata": {},
   "outputs": [
    {
     "name": "stdout",
     "output_type": "stream",
     "text": [
      "Вершина 1: [-5.0000, 7.5000]\n",
      "Вершина 2: [-1.1111, -10.144]\n"
     ]
    }
   ],
   "source": [
    "for y in range(len(rt)):\n",
    "    print(f'Вершина {y+1}: [{rt[y].n(5)}, {f_x.subs(x, rt[y]).n(5)}]')"
   ]
  },
  {
   "cell_type": "markdown",
   "id": "e405ada3",
   "metadata": {},
   "source": [
    "## 6. Определить промежутки, на котором f > 0"
   ]
  },
  {
   "cell_type": "code",
   "execution_count": 57,
   "id": "83362568",
   "metadata": {},
   "outputs": [
    {
     "data": {
      "text/latex": [
       "$\\displaystyle \\left(-6.32174537314726 < x \\wedge x < -3.25046383307744\\right) \\vee \\left(0.405542539558034 < x \\wedge x < \\infty\\right)$"
      ],
      "text/plain": [
       "((-6.32174537314726 < x) & (x < -3.25046383307744)) | ((0.405542539558034 < x) & (x < oo))"
      ]
     },
     "execution_count": 57,
     "metadata": {},
     "output_type": "execute_result"
    }
   ],
   "source": [
    "solve(f_x > 0, x)"
   ]
  },
  {
   "cell_type": "markdown",
   "id": "fa060eaf",
   "metadata": {},
   "source": [
    "## 7. Определить промежутки, на котором f < 0"
   ]
  },
  {
   "cell_type": "code",
   "execution_count": 58,
   "id": "b75c709b",
   "metadata": {},
   "outputs": [
    {
     "data": {
      "text/latex": [
       "$\\displaystyle \\left(-3.25046383307744 < x \\wedge x < 0.405542539558034\\right) \\vee \\left(-\\infty < x \\wedge x < -6.32174537314726\\right)$"
      ],
      "text/plain": [
       "((-3.25046383307744 < x) & (x < 0.405542539558034)) | ((-oo < x) & (x < -6.32174537314726))"
      ]
     },
     "execution_count": 58,
     "metadata": {},
     "output_type": "execute_result"
    }
   ],
   "source": [
    "solve(f_x < 0, x)"
   ]
  }
 ],
 "metadata": {
  "kernelspec": {
   "display_name": "Python 3 (ipykernel)",
   "language": "python",
   "name": "python3"
  },
  "language_info": {
   "codemirror_mode": {
    "name": "ipython",
    "version": 3
   },
   "file_extension": ".py",
   "mimetype": "text/x-python",
   "name": "python",
   "nbconvert_exporter": "python",
   "pygments_lexer": "ipython3",
   "version": "3.9.13"
  }
 },
 "nbformat": 4,
 "nbformat_minor": 5
}
